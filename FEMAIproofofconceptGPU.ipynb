{
 "cells": [
  {
   "cell_type": "code",
   "execution_count": 8,
   "metadata": {},
   "outputs": [],
   "source": [
    "import pandas as pd\n",
    "#from urllib.request import urlretrieve\n",
    "#import plotly.express as px\n",
    "import matplotlib\n",
    "import matplotlib.pyplot as plt\n",
    "import torchvision\n",
    "import numpy as np\n",
    "import torch.nn as nn\n",
    "import torch.nn.functional as F\n",
    "#from torchvision.datasets import MNIST\n",
    "from torchvision.transforms import ToTensor\n",
    "from torchvision.utils import make_grid\n",
    "from torch.utils.data.dataloader import DataLoader\n",
    "from torch.utils.data import random_split\n",
    "from torch.utils.data import Dataset, DataLoader, random_split\n",
    "import torch.optim as optim\n",
    "import time\n",
    "import torch\n",
    "import glob"
   ]
  },
  {
   "cell_type": "code",
   "execution_count": 9,
   "metadata": {},
   "outputs": [
    {
     "name": "stdout",
     "output_type": "stream",
     "text": [
      "GPU is available. Using GPU.\n"
     ]
    }
   ],
   "source": [
    "torch.cuda.is_available()\n",
    "def get_device():\n",
    "    # Step 2: Check if a GPU is available\n",
    "    if torch.cuda.is_available():\n",
    "        # Step 3: Set the device to GPU\n",
    "        device = torch.device(\"cuda\")\n",
    "        print(\"GPU is available. Using GPU.\")\n",
    "    else:\n",
    "        # Step 3: Default to CPU\n",
    "        device = torch.device(\"cpu\")\n",
    "        print(\"GPU is not available. Using CPU.\")\n",
    "    \n",
    "    # Step 4: Return the device\n",
    "    return device\n",
    "\n",
    "# Example usage\n",
    "device = get_device()"
   ]
  },
  {
   "cell_type": "code",
   "execution_count": 10,
   "metadata": {},
   "outputs": [],
   "source": [
    "class ThreeLayerNN(nn.Module):\n",
    "    def __init__(self, input_size, hidden_size, output_size):\n",
    "        super(ThreeLayerNN, self).__init__()\n",
    "        # Define the layers\n",
    "        self.fc1 = nn.Linear(input_size, hidden_size)  # First fully connected layer\n",
    "        self.relu1 = nn.ReLU()  # Activation function\n",
    "        self.fc2 = nn.Linear(hidden_size, hidden_size)  # Second fully connected layer\n",
    "        self.relu2 = nn.ReLU()  # Activation function\n",
    "        self.fc3 = nn.Linear(hidden_size, output_size)  # Third fully connected layer\n",
    "\n",
    "    def forward(self, x):\n",
    "        # Forward pass\n",
    "        x = self.fc1(x)\n",
    "        x = self.relu1(x)\n",
    "        x = self.fc2(x)\n",
    "        x = self.relu2(x)\n",
    "        x = self.fc3(x)\n",
    "        return x"
   ]
  },
  {
   "cell_type": "code",
   "execution_count": 15,
   "metadata": {},
   "outputs": [
    {
     "name": "stdout",
     "output_type": "stream",
     "text": [
      "torch.Size([10, 5670, 4])\n"
     ]
    }
   ],
   "source": [
    "\n",
    "#num_samples = 1000\n",
    "#num_instances = 10000\n",
    "\n",
    "\n",
    "#x = torch.rand(num_instances, num_samples)\n",
    "#y = torch.rand(num_instances, num_samples)\n",
    "#z = torch.rand(num_instances, num_samples)\n",
    "#target = torch.randint(-1000, 1001, (num_instances, num_samples))\n",
    "#data = torch.stack((x, y, z, target), dim=2).to(device)\n",
    "# Define the pattern to match files\n",
    "file_pattern = 'SWPR_WDFC.wRes.nom_SP.058_SP.060_2D_w0(*).xlsx'\n",
    "\n",
    "# Find all files matching the pattern\n",
    "file_paths = glob.glob(file_pattern)\n",
    "\n",
    "# Initialize a list to store the tensors\n",
    "data_list = []\n",
    "\n",
    "# Loop through the list of matching files\n",
    "for file_path in file_paths:\n",
    "    columns_to_read = ['E_X', 'E_Y', 'E_Z', 'PSCL']\n",
    "    df = pd.read_excel(file_path, usecols=columns_to_read)\n",
    "    data_array = df.to_numpy()\n",
    "    data_tensor = torch.tensor(data_array, dtype=torch.float32)\n",
    "    data_list.append(data_tensor)\n",
    "\n",
    "# Determine the maximum size of the second dimension\n",
    "max_size = max(tensor.shape[0] for tensor in data_list)\n",
    "\n",
    "# Pad each tensor to the maximum size\n",
    "padded_data_list = []\n",
    "for tensor in data_list:\n",
    "    padding = (0, 0, 0, max_size - tensor.shape[0])\n",
    "    padded_tensor = torch.nn.functional.pad(tensor, padding, mode='constant', value=0)\n",
    "    padded_data_list.append(padded_tensor)\n",
    "\n",
    "# Stack the padded tensors into a single tensor\n",
    "data = torch.stack(padded_data_list)\n",
    "\n",
    "# Print the shape of the final tensor\n",
    "print(data.shape)\n",
    "\n",
    "\n",
    "\n"
   ]
  },
  {
   "cell_type": "code",
   "execution_count": 16,
   "metadata": {},
   "outputs": [
    {
     "name": "stdout",
     "output_type": "stream",
     "text": [
      "1\n",
      "9\n"
     ]
    }
   ],
   "source": [
    "val_size = len(data_list)//10\n",
    "train_size = len(data_list) - val_size\n",
    "print(val_size)\n",
    "print(train_size)\n",
    "start_time = time.time()\n",
    "train_ds, val_ds = random_split(data, [train_size, val_size])\n",
    "batch_size=2\n",
    "train_loader = DataLoader(train_ds, batch_size, shuffle=True, num_workers=0)\n",
    "val_loader = DataLoader(val_ds, batch_size*2, num_workers=0)"
   ]
  },
  {
   "cell_type": "code",
   "execution_count": 17,
   "metadata": {},
   "outputs": [
    {
     "name": "stdout",
     "output_type": "stream",
     "text": [
      "torch.Size([2, 5670, 4])\n"
     ]
    }
   ],
   "source": [
    "for batch in train_loader:\n",
    "    print(batch.shape)\n",
    "    break"
   ]
  },
  {
   "cell_type": "code",
   "execution_count": 33,
   "metadata": {},
   "outputs": [],
   "source": [
    "#model = nn.Linear(100 * 3, 100)"
   ]
  },
  {
   "cell_type": "code",
   "execution_count": 34,
   "metadata": {},
   "outputs": [],
   "source": [
    "#model.parameters()"
   ]
  },
  {
   "cell_type": "code",
   "execution_count": null,
   "metadata": {},
   "outputs": [],
   "source": []
  },
  {
   "cell_type": "code",
   "execution_count": 35,
   "metadata": {},
   "outputs": [],
   "source": [
    "#data[:,...,:-1].shape"
   ]
  },
  {
   "cell_type": "code",
   "execution_count": 18,
   "metadata": {},
   "outputs": [],
   "source": [
    "model = ThreeLayerNN(3, 100, 1).to(device)"
   ]
  },
  {
   "cell_type": "code",
   "execution_count": 37,
   "metadata": {},
   "outputs": [],
   "source": [
    "#model.parameters()"
   ]
  },
  {
   "cell_type": "code",
   "execution_count": 19,
   "metadata": {},
   "outputs": [],
   "source": [
    "optimizer = optim.Adam(model.parameters(), lr=1e-5)"
   ]
  },
  {
   "cell_type": "code",
   "execution_count": 22,
   "metadata": {},
   "outputs": [
    {
     "name": "stdout",
     "output_type": "stream",
     "text": [
      "Epoch [1/10], Loss: 979206361.6\n",
      "Epoch [2/10], Loss: 978869312.0\n",
      "Epoch [3/10], Loss: 978532160.0\n",
      "Epoch [4/10], Loss: 978195443.2\n",
      "Epoch [5/10], Loss: 977864332.8\n",
      "Epoch [6/10], Loss: 977535296.0\n",
      "Epoch [7/10], Loss: 977206092.8\n",
      "Epoch [8/10], Loss: 976876723.2\n",
      "Epoch [9/10], Loss: 976547276.8\n",
      "Epoch [10/10], Loss: 976218880.0\n",
      "Elapsed time: 131.778249502182 seconds for 10 simulations with 5670 points each on cuda.\n"
     ]
    }
   ],
   "source": [
    "\n",
    "\n",
    "# Assuming model, train_loader, and criterion are already defined\n",
    "#model = ...  # Your neural network model\n",
    "#train_loader = ...  # DataLoader for your training data\n",
    "criterion = nn.MSELoss()  # Loss function for regression\n",
    "\n",
    "num_epochs = 10  # Number of epochs\n",
    "\n",
    "# Training loop\n",
    "for epoch in range(num_epochs):\n",
    "    model.train()  # Set the model to training mode\n",
    "    running_loss = 0.0\n",
    "\n",
    "    for batch in train_loader:\n",
    "        optimizer.zero_grad()  # Zero the gradients\n",
    "        inputs = batch[:,...,:-1].to(device)\n",
    "        outputs = model(inputs).to(device)\n",
    "        targets =   batch[:,...,-1].to(device)   # Forward pass\n",
    "        outputs = outputs.squeeze(-1)\n",
    "        loss = criterion(outputs, targets)  # Compute the loss\n",
    "\n",
    "        loss.backward()  # Backward pass\n",
    "        optimizer.step()  # Update the weights\n",
    "\n",
    "        running_loss += loss.item()\n",
    "\n",
    "    print(f\"Epoch [{epoch+1}/{num_epochs}], Loss: {running_loss/len(train_loader)}\")\n",
    "end_time = time.time()\n",
    "elapsed_time = end_time - start_time\n",
    "print(f\"Elapsed time: {elapsed_time} seconds for {len(data_list)} simulations with {len(data[1])} points each on {device}.\")\n"
   ]
  },
  {
   "cell_type": "code",
   "execution_count": 23,
   "metadata": {},
   "outputs": [
    {
     "name": "stdout",
     "output_type": "stream",
     "text": [
      "Epoch [10/10], Validation Loss: 976040704.0\n",
      "validation took 0.0 secondson cuda.\n"
     ]
    }
   ],
   "source": [
    "model.eval()  # Set the model to evaluation mode\n",
    "val_loss = 0.0\n",
    "start_time = time.time()\n",
    "with torch.no_grad():\n",
    "    for batch in val_loader:\n",
    "        inputs = batch[:, ..., :-1].to(device)\n",
    "        outputs = model(inputs).to(device)\n",
    "        targets = batch[:, ..., -1].to(device)  # Forward pass\n",
    "        outputs = outputs.squeeze(-1)\n",
    "        loss = criterion(outputs, targets).to(device)  # Compute the loss\n",
    "        val_loss += loss.item()\n",
    "end_time = time.time()\n",
    "\n",
    "elapsed_time = end_time - start_time\n",
    "print(f\"Epoch [{epoch+1}/{num_epochs}], Validation Loss: {val_loss/len(val_loader)}\")\n",
    "print(f\"validation took {elapsed_time} secondson {device}.\")"
   ]
  }
 ],
 "metadata": {
  "kernelspec": {
   "display_name": "FEM",
   "language": "python",
   "name": "python3"
  },
  "language_info": {
   "codemirror_mode": {
    "name": "ipython",
    "version": 3
   },
   "file_extension": ".py",
   "mimetype": "text/x-python",
   "name": "python",
   "nbconvert_exporter": "python",
   "pygments_lexer": "ipython3",
   "version": "3.10.13"
  }
 },
 "nbformat": 4,
 "nbformat_minor": 2
}
