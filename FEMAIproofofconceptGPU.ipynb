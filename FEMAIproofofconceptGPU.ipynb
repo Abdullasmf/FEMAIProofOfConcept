{
 "cells": [
  {
   "cell_type": "code",
   "execution_count": 70,
   "metadata": {},
   "outputs": [],
   "source": [
    "import pandas as pd\n",
    "#from urllib.request import urlretrieve\n",
    "#import plotly.express as px\n",
    "import matplotlib\n",
    "import matplotlib.pyplot as plt\n",
    "import torchvision\n",
    "import numpy as np\n",
    "import torch.nn as nn\n",
    "import torch.nn.functional as F\n",
    "#from torchvision.datasets import MNIST\n",
    "from torchvision.transforms import ToTensor\n",
    "from torchvision.utils import make_grid\n",
    "from torch.utils.data.dataloader import DataLoader\n",
    "from torch.utils.data import random_split\n",
    "from torch.utils.data import Dataset, DataLoader, random_split\n",
    "import torch.optim as optim\n",
    "import time\n",
    "import torch\n",
    "import glob"
   ]
  },
  {
   "cell_type": "code",
   "execution_count": 71,
   "metadata": {},
   "outputs": [
    {
     "name": "stdout",
     "output_type": "stream",
     "text": [
      "GPU is available. Using GPU.\n"
     ]
    }
   ],
   "source": [
    "torch.cuda.is_available()\n",
    "def get_device():\n",
    "    # Step 2: Check if a GPU is available\n",
    "    if torch.cuda.is_available():\n",
    "        # Step 3: Set the device to GPU\n",
    "        device = torch.device(\"cuda\")\n",
    "        print(\"GPU is available. Using GPU.\")\n",
    "    else:\n",
    "        # Step 3: Default to CPU\n",
    "        device = torch.device(\"cpu\")\n",
    "        print(\"GPU is not available. Using CPU.\")\n",
    "    \n",
    "    # Step 4: Return the device\n",
    "    return device\n",
    "\n",
    "# Example usage\n",
    "device = get_device()"
   ]
  },
  {
   "cell_type": "code",
   "execution_count": 72,
   "metadata": {},
   "outputs": [],
   "source": [
    "class ThreeLayerNN(nn.Module):\n",
    "    def __init__(self, input_size, hidden_size, output_size):\n",
    "        super(ThreeLayerNN, self).__init__()\n",
    "        # Define the layers\n",
    "        self.fc1 = nn.Linear(input_size, hidden_size)  # First fully connected layer\n",
    "        self.relu1 = nn.ReLU()  # Activation function\n",
    "        self.fc2 = nn.Linear(hidden_size, hidden_size)  # Second fully connected layer\n",
    "        self.relu2 = nn.ReLU()  # Activation function\n",
    "        self.fc3 = nn.Linear(hidden_size, output_size)  # Third fully connected layer\n",
    "\n",
    "    def forward(self, x):\n",
    "        # Forward pass\n",
    "        x = self.fc1(x)\n",
    "        x = self.relu1(x)\n",
    "        x = self.fc2(x)\n",
    "        x = self.relu2(x)\n",
    "        x = self.fc3(x)\n",
    "        return x"
   ]
  },
  {
   "cell_type": "code",
   "execution_count": 73,
   "metadata": {},
   "outputs": [
    {
     "name": "stdout",
     "output_type": "stream",
     "text": [
      "torch.Size([10, 5670, 4])\n",
      "Elapsed time: 36.54450869560242 seconds for reading data\n"
     ]
    }
   ],
   "source": [
    "\n",
    "#num_samples = 1000\n",
    "#num_instances = 10000\n",
    "\n",
    "\n",
    "#x = torch.rand(num_instances, num_samples)\n",
    "#y = torch.rand(num_instances, num_samples)\n",
    "#z = torch.rand(num_instances, num_samples)\n",
    "#target = torch.randint(-1000, 1001, (num_instances, num_samples))\n",
    "#data = torch.stack((x, y, z, target), dim=2).to(device)\n",
    "# Define the pattern to match files\n",
    "start_time = time.time()\n",
    "file_pattern = 'SWPR_WDFC.wRes.nom_SP.058_SP.060_2D_w0(*).xlsx'\n",
    "\n",
    "# Find all files matching the pattern\n",
    "file_paths = glob.glob(file_pattern)\n",
    "\n",
    "# Initialize a list to store the tensors\n",
    "data_list = []\n",
    "\n",
    "# Loop through the list of matching files\n",
    "for file_path in file_paths:\n",
    "    columns_to_read = ['E_X', 'E_Y', 'E_Z', 'PSCL']\n",
    "    df = pd.read_excel(file_path, usecols=columns_to_read)\n",
    "    data_array = df.to_numpy()\n",
    "    data_tensor = torch.tensor(data_array, dtype=torch.float32)\n",
    "    data_list.append(data_tensor)\n",
    "\n",
    "# Determine the maximum size of the second dimension\n",
    "max_size = max(tensor.shape[0] for tensor in data_list)\n",
    "\n",
    "# Pad each tensor to the maximum size\n",
    "padded_data_list = []\n",
    "for tensor in data_list:\n",
    "    padding = (0, 0, 0, max_size - tensor.shape[0])\n",
    "    padded_tensor = torch.nn.functional.pad(tensor, padding, mode='constant', value=0)\n",
    "    padded_data_list.append(padded_tensor)\n",
    "\n",
    "# Stack the padded tensors into a single tensor\n",
    "data = torch.stack(padded_data_list)\n",
    "\n",
    "# Print the shape of the final tensor\n",
    "print(data.shape)\n",
    "end_time = time.time()\n",
    "elapsed_time = end_time - start_time\n",
    "print(f\"Elapsed time: {elapsed_time} seconds for reading data\")\n",
    "\n",
    "\n"
   ]
  },
  {
   "cell_type": "code",
   "execution_count": 74,
   "metadata": {},
   "outputs": [
    {
     "name": "stdout",
     "output_type": "stream",
     "text": [
      "1\n",
      "9\n",
      "Elapsed time: 0.0 seconds for manipulating data.\n"
     ]
    }
   ],
   "source": [
    "val_size = len(data_list)//10\n",
    "train_size = len(data_list) - val_size\n",
    "print(val_size)\n",
    "print(train_size)\n",
    "start_time = time.time()\n",
    "train_ds, val_ds = random_split(data, [train_size, val_size])\n",
    "batch_size=2\n",
    "train_loader = DataLoader(train_ds, batch_size, shuffle=True, num_workers=0)\n",
    "val_loader = DataLoader(val_ds, batch_size*2, num_workers=0)\n",
    "end_time = time.time()\n",
    "elapsed_time = end_time - start_time\n",
    "print(f\"Elapsed time: {elapsed_time} seconds for manipulating data.\")"
   ]
  },
  {
   "cell_type": "code",
   "execution_count": 75,
   "metadata": {},
   "outputs": [
    {
     "name": "stdout",
     "output_type": "stream",
     "text": [
      "torch.Size([2, 5670, 4])\n",
      "tensor([[[3677.6001,  177.7600,    0.0000],\n",
      "         [3677.5283,  178.0630,    0.0000],\n",
      "         [3677.4565,  178.3660,    0.0000],\n",
      "         ...,\n",
      "         [3623.3999,  120.3637,    0.0000],\n",
      "         [3623.3999,  120.2662,    0.0000],\n",
      "         [3623.3999,  120.1687,    0.0000]],\n",
      "\n",
      "        [[3677.6001,  177.7600,    0.0000],\n",
      "         [3677.5283,  178.0630,    0.0000],\n",
      "         [3677.4565,  178.3660,    0.0000],\n",
      "         ...,\n",
      "         [3623.3999,  120.3637,    0.0000],\n",
      "         [3623.3999,  120.2662,    0.0000],\n",
      "         [3623.3999,  120.1687,    0.0000]]])\n",
      "tensor([[33179.8555, 33179.8555, 33179.8555,  ..., 31282.0039, 31303.5430,\n",
      "         31324.8691],\n",
      "        [33179.8555, 33179.8555, 33179.8555,  ..., 31282.0039, 31303.5430,\n",
      "         31324.8691]])\n"
     ]
    }
   ],
   "source": [
    "for batch in train_loader:\n",
    "    print(batch.shape)\n",
    "    inputs =    batch[:,...,:-1]\n",
    "    targets =   batch[:,...,-1]\n",
    "    print(inputs)\n",
    "    print(targets)   # Forward pass\n",
    "    break"
   ]
  },
  {
   "cell_type": "code",
   "execution_count": 76,
   "metadata": {},
   "outputs": [],
   "source": [
    "#model = nn.Linear(100 * 3, 100)"
   ]
  },
  {
   "cell_type": "code",
   "execution_count": 77,
   "metadata": {},
   "outputs": [],
   "source": [
    "#model.parameters()"
   ]
  },
  {
   "cell_type": "code",
   "execution_count": null,
   "metadata": {},
   "outputs": [],
   "source": []
  },
  {
   "cell_type": "code",
   "execution_count": 78,
   "metadata": {},
   "outputs": [],
   "source": [
    "#data[:,...,:-1].shape"
   ]
  },
  {
   "cell_type": "code",
   "execution_count": 79,
   "metadata": {},
   "outputs": [],
   "source": [
    "model = ThreeLayerNN(3, 100, 1).to(device)"
   ]
  },
  {
   "cell_type": "code",
   "execution_count": 80,
   "metadata": {},
   "outputs": [],
   "source": [
    "#model.parameters()"
   ]
  },
  {
   "cell_type": "code",
   "execution_count": 81,
   "metadata": {},
   "outputs": [],
   "source": [
    "optimizer = optim.Adam(model.parameters(), lr=1e-5)"
   ]
  },
  {
   "cell_type": "code",
   "execution_count": 82,
   "metadata": {},
   "outputs": [
    {
     "name": "stdout",
     "output_type": "stream",
     "text": [
      "Epoch [1/100], Loss: 982783206.4\n",
      "Epoch [2/100], Loss: 982391872.0\n",
      "Epoch [3/100], Loss: 981982809.6\n",
      "Epoch [4/100], Loss: 981574822.4\n",
      "Epoch [5/100], Loss: 981167539.2\n",
      "Epoch [6/100], Loss: 980760640.0\n",
      "Epoch [7/100], Loss: 980354073.6\n",
      "Epoch [8/100], Loss: 979929587.2\n",
      "Epoch [9/100], Loss: 979542105.6\n",
      "Epoch [10/100], Loss: 979136576.0\n",
      "Epoch [11/100], Loss: 978733094.4\n",
      "Epoch [12/100], Loss: 978333414.4\n",
      "Epoch [13/100], Loss: 977937817.6\n",
      "Epoch [14/100], Loss: 977544051.2\n",
      "Epoch [15/100], Loss: 977150924.8\n",
      "Epoch [16/100], Loss: 976758707.2\n",
      "Epoch [17/100], Loss: 976367846.4\n",
      "Epoch [18/100], Loss: 975977459.2\n",
      "Epoch [19/100], Loss: 975570137.6\n",
      "Epoch [20/100], Loss: 975204249.6\n",
      "Epoch [21/100], Loss: 974822732.8\n",
      "Epoch [22/100], Loss: 974442918.4\n",
      "Epoch [23/100], Loss: 974063961.6\n",
      "Epoch [24/100], Loss: 973685427.2\n",
      "Epoch [25/100], Loss: 973307571.2\n",
      "Epoch [26/100], Loss: 972929868.8\n",
      "Epoch [27/100], Loss: 972534080.0\n",
      "Epoch [28/100], Loss: 972174732.8\n",
      "Epoch [29/100], Loss: 971797235.2\n",
      "Epoch [30/100], Loss: 971419827.2\n",
      "Epoch [31/100], Loss: 971042521.6\n",
      "Epoch [32/100], Loss: 970665600.0\n",
      "Epoch [33/100], Loss: 970289267.2\n",
      "Epoch [34/100], Loss: 969913638.4\n",
      "Epoch [35/100], Loss: 969520448.0\n",
      "Epoch [36/100], Loss: 969163993.6\n",
      "Epoch [37/100], Loss: 968790156.8\n",
      "Epoch [38/100], Loss: 968416665.6\n",
      "Epoch [39/100], Loss: 968044275.2\n",
      "Epoch [40/100], Loss: 967672921.6\n",
      "Epoch [41/100], Loss: 967301862.4\n",
      "Epoch [42/100], Loss: 966930803.2\n",
      "Epoch [43/100], Loss: 966559539.2\n",
      "Epoch [44/100], Loss: 966170086.4\n",
      "Epoch [45/100], Loss: 965816537.6\n",
      "Epoch [46/100], Loss: 965444812.8\n",
      "Epoch [47/100], Loss: 965072921.6\n",
      "Epoch [48/100], Loss: 964700787.2\n",
      "Epoch [49/100], Loss: 964328486.4\n",
      "Epoch [50/100], Loss: 963955968.0\n",
      "Epoch [51/100], Loss: 963583193.6\n",
      "Epoch [52/100], Loss: 963192832.0\n",
      "Epoch [53/100], Loss: 962839398.4\n",
      "Epoch [54/100], Loss: 962470297.6\n",
      "Epoch [55/100], Loss: 962105177.6\n",
      "Epoch [56/100], Loss: 961743129.6\n",
      "Epoch [57/100], Loss: 961381900.8\n",
      "Epoch [58/100], Loss: 961020953.6\n",
      "Epoch [59/100], Loss: 960660326.4\n",
      "Epoch [60/100], Loss: 960299840.0\n",
      "Epoch [61/100], Loss: 959939289.6\n",
      "Epoch [62/100], Loss: 959578585.6\n",
      "Epoch [63/100], Loss: 959217728.0\n",
      "Epoch [64/100], Loss: 958856780.8\n",
      "Epoch [65/100], Loss: 958495680.0\n",
      "Epoch [66/100], Loss: 958134809.6\n",
      "Epoch [67/100], Loss: 957773939.2\n",
      "Epoch [68/100], Loss: 957412864.0\n",
      "Epoch [69/100], Loss: 957051571.2\n",
      "Epoch [70/100], Loss: 956690304.0\n",
      "Epoch [71/100], Loss: 956329664.0\n",
      "Epoch [72/100], Loss: 955972236.8\n",
      "Epoch [73/100], Loss: 955620518.4\n",
      "Epoch [74/100], Loss: 955269593.6\n",
      "Epoch [75/100], Loss: 954918924.8\n",
      "Epoch [76/100], Loss: 954568396.8\n",
      "Epoch [77/100], Loss: 954217779.2\n",
      "Epoch [78/100], Loss: 953867059.2\n",
      "Epoch [79/100], Loss: 953516198.4\n",
      "Epoch [80/100], Loss: 953165632.0\n",
      "Epoch [81/100], Loss: 952815091.2\n",
      "Epoch [82/100], Loss: 952464371.2\n",
      "Epoch [83/100], Loss: 952113766.4\n",
      "Epoch [84/100], Loss: 951747084.8\n",
      "Epoch [85/100], Loss: 951399628.8\n",
      "Epoch [86/100], Loss: 951069875.2\n",
      "Epoch [87/100], Loss: 950722483.2\n",
      "Epoch [88/100], Loss: 950375462.4\n",
      "Epoch [89/100], Loss: 950028633.6\n",
      "Epoch [90/100], Loss: 949681254.4\n",
      "Epoch [91/100], Loss: 949333529.6\n",
      "Epoch [92/100], Loss: 948985868.8\n",
      "Epoch [93/100], Loss: 948638630.4\n",
      "Epoch [94/100], Loss: 948291558.4\n",
      "Epoch [95/100], Loss: 947945459.2\n",
      "Epoch [96/100], Loss: 947582067.2\n",
      "Epoch [97/100], Loss: 947253952.0\n",
      "Epoch [98/100], Loss: 946890124.8\n",
      "Epoch [99/100], Loss: 946561305.6\n",
      "Epoch [100/100], Loss: 946214374.4\n",
      "Elapsed time: 3.0268850326538086 seconds for 10 simulations with 5670 points each on cuda.\n"
     ]
    }
   ],
   "source": [
    "\n",
    "\n",
    "# Assuming model, train_loader, and criterion are already defined\n",
    "#model = ...  # Your neural network model\n",
    "#train_loader = ...  # DataLoader for your training data\n",
    "criterion = nn.MSELoss()  # Loss function for regression\n",
    "\n",
    "num_epochs = 100  # Number of epochs\n",
    "\n",
    "# Training loop\n",
    "start_time = time.time()\n",
    "for epoch in range(num_epochs):\n",
    "    model.train()  # Set the model to training mode\n",
    "    running_loss = 0.0\n",
    "\n",
    "    for batch in train_loader:\n",
    "        optimizer.zero_grad()  # Zero the gradients\n",
    "        inputs = batch[:,...,:-1].to(device)\n",
    "        outputs = model(inputs).to(device)\n",
    "        targets =   batch[:,...,-1].to(device)   # Forward pass\n",
    "        outputs = outputs.squeeze(-1)\n",
    "        loss = criterion(outputs, targets)  # Compute the loss\n",
    "\n",
    "        loss.backward()  # Backward pass\n",
    "        optimizer.step()  # Update the weights\n",
    "\n",
    "        running_loss += loss.item()\n",
    "\n",
    "    print(f\"Epoch [{epoch+1}/{num_epochs}], Loss: {running_loss/len(train_loader)}\")\n",
    "end_time = time.time()\n",
    "elapsed_time = end_time - start_time\n",
    "print(f\"Elapsed time: {elapsed_time} seconds for {len(data_list)} simulations with {len(data[1])} points each on {device}.\")\n"
   ]
  },
  {
   "cell_type": "code",
   "execution_count": 83,
   "metadata": {},
   "outputs": [
    {
     "name": "stdout",
     "output_type": "stream",
     "text": [
      "Epoch [100/100], Validation Loss: 946023744.0\n",
      "validation took 0.0 secondson cuda.\n"
     ]
    }
   ],
   "source": [
    "model.eval()  # Set the model to evaluation mode\n",
    "val_loss = 0.0\n",
    "start_time = time.time()\n",
    "with torch.no_grad():\n",
    "    for batch in val_loader:\n",
    "        inputs = batch[:, ..., :-1].to(device)\n",
    "        outputs = model(inputs).to(device)\n",
    "        targets = batch[:, ..., -1].to(device)  # Forward pass\n",
    "        outputs = outputs.squeeze(-1)\n",
    "        loss = criterion(outputs, targets).to(device)  # Compute the loss\n",
    "        val_loss += loss.item()\n",
    "end_time = time.time()\n",
    "\n",
    "elapsed_time = end_time - start_time\n",
    "print(f\"Epoch [{epoch+1}/{num_epochs}], Validation Loss: {val_loss/len(val_loader)}\")\n",
    "print(f\"validation took {elapsed_time} secondson {device}.\")"
   ]
  }
 ],
 "metadata": {
  "kernelspec": {
   "display_name": "FEM",
   "language": "python",
   "name": "python3"
  },
  "language_info": {
   "codemirror_mode": {
    "name": "ipython",
    "version": 3
   },
   "file_extension": ".py",
   "mimetype": "text/x-python",
   "name": "python",
   "nbconvert_exporter": "python",
   "pygments_lexer": "ipython3",
   "version": "3.10.13"
  }
 },
 "nbformat": 4,
 "nbformat_minor": 2
}
