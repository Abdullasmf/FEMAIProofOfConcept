{
 "cells": [
  {
   "cell_type": "code",
   "execution_count": 27,
   "metadata": {},
   "outputs": [],
   "source": [
    "import pandas as pd\n",
    "#from urllib.request import urlretrieve\n",
    "#import plotly.express as px\n",
    "import matplotlib\n",
    "import matplotlib.pyplot as plt\n",
    "#import seaborn as sns\n",
    "#import nbformat\n",
    "#sns.set_style('darkgrid')\n",
    "#matplotlib.rcParams['font.size'] = 14\n",
    "#matplotlib.rcParams['figure.figsize'] = (10, 6)\n",
    "#matplotlib.rcParams['figure.facecolor'] = '#00000000'\n",
    "import numpy as np\n",
    "#from sklearn.preprocessing import StandardScaler\n",
    "import torch\n",
    "import torchvision\n",
    "import numpy as np\n",
    "import torch.nn as nn\n",
    "import torch.nn.functional as F\n",
    "#from torchvision.datasets import MNIST\n",
    "from torchvision.transforms import ToTensor\n",
    "from torchvision.utils import make_grid\n",
    "from torch.utils.data.dataloader import DataLoader\n",
    "from torch.utils.data import random_split\n",
    "#%matplotlib inline\n",
    "import torch\n",
    "from torch.utils.data import Dataset, DataLoader, random_split\n",
    "import torch.optim as optim\n",
    "import time"
   ]
  },
  {
   "cell_type": "code",
   "execution_count": 28,
   "metadata": {},
   "outputs": [
    {
     "name": "stdout",
     "output_type": "stream",
     "text": [
      "GPU is available. Using GPU.\n"
     ]
    }
   ],
   "source": [
    "torch.cuda.is_available()\n",
    "def get_device():\n",
    "    # Step 2: Check if a GPU is available\n",
    "    if torch.cuda.is_available():\n",
    "        # Step 3: Set the device to GPU\n",
    "        device = torch.device(\"cuda\")\n",
    "        #device = torch.device(\"cpu\")\n",
    "        print(\"GPU is available. Using GPU.\")\n",
    "    else:\n",
    "        # Step 3: Default to CPU\n",
    "        device = torch.device(\"cpu\")\n",
    "        print(\"GPU is not available. Using CPU.\")\n",
    "    \n",
    "    # Step 4: Return the device\n",
    "    return device\n",
    "\n",
    "# Example usage\n",
    "device = get_device()"
   ]
  },
  {
   "cell_type": "code",
   "execution_count": 29,
   "metadata": {},
   "outputs": [],
   "source": [
    "class ThreeLayerNN(nn.Module):\n",
    "    def __init__(self, input_size, hidden_size, output_size):\n",
    "        super(ThreeLayerNN, self).__init__()\n",
    "        # Define the layers\n",
    "        self.fc1 = nn.Linear(input_size, hidden_size)  # First fully connected layer\n",
    "        self.relu1 = nn.ReLU()  # Activation function\n",
    "        self.fc2 = nn.Linear(hidden_size, hidden_size)  # Second fully connected layer\n",
    "        self.relu2 = nn.ReLU()  # Activation function\n",
    "        self.fc3 = nn.Linear(hidden_size, output_size)  # Third fully connected layer\n",
    "\n",
    "    def forward(self, x):\n",
    "        # Forward pass\n",
    "        x = self.fc1(x)\n",
    "        x = self.relu1(x)\n",
    "        x = self.fc2(x)\n",
    "        x = self.relu2(x)\n",
    "        x = self.fc3(x)\n",
    "        return x"
   ]
  },
  {
   "cell_type": "code",
   "execution_count": 30,
   "metadata": {},
   "outputs": [],
   "source": [
    "\n",
    "num_samples = 1000\n",
    "num_instances = 10000\n",
    "\n",
    "\n",
    "x = torch.rand(num_instances, num_samples)\n",
    "y = torch.rand(num_instances, num_samples)\n",
    "z = torch.rand(num_instances, num_samples)\n",
    "target = torch.randint(-1000, 1001, (num_instances, num_samples))\n",
    "data = torch.stack((x, y, z, target), dim=2).to(device)\n",
    "\n",
    "\n"
   ]
  },
  {
   "cell_type": "code",
   "execution_count": 31,
   "metadata": {},
   "outputs": [
    {
     "name": "stdout",
     "output_type": "stream",
     "text": [
      "1000\n",
      "9000\n"
     ]
    }
   ],
   "source": [
    "val_size = num_instances//10\n",
    "train_size = num_instances - val_size\n",
    "print(val_size)\n",
    "print(train_size)\n",
    "start_time = time.time()\n",
    "train_ds, val_ds = random_split(data, [train_size, val_size])\n",
    "batch_size=20\n",
    "train_loader = DataLoader(train_ds, batch_size, shuffle=True, num_workers=0)\n",
    "val_loader = DataLoader(val_ds, batch_size*2, num_workers=0)"
   ]
  },
  {
   "cell_type": "code",
   "execution_count": 32,
   "metadata": {},
   "outputs": [],
   "source": [
    "#for batch in train_loader:\n",
    "#    print(batch.shape)\n",
    "#    break"
   ]
  },
  {
   "cell_type": "code",
   "execution_count": 33,
   "metadata": {},
   "outputs": [],
   "source": [
    "#model = nn.Linear(100 * 3, 100)"
   ]
  },
  {
   "cell_type": "code",
   "execution_count": 34,
   "metadata": {},
   "outputs": [],
   "source": [
    "#model.parameters()"
   ]
  },
  {
   "cell_type": "code",
   "execution_count": null,
   "metadata": {},
   "outputs": [],
   "source": []
  },
  {
   "cell_type": "code",
   "execution_count": 35,
   "metadata": {},
   "outputs": [],
   "source": [
    "#data[:,...,:-1].shape"
   ]
  },
  {
   "cell_type": "code",
   "execution_count": 36,
   "metadata": {},
   "outputs": [],
   "source": [
    "model = ThreeLayerNN(3, 100, 1).to(device)"
   ]
  },
  {
   "cell_type": "code",
   "execution_count": 37,
   "metadata": {},
   "outputs": [],
   "source": [
    "#model.parameters()"
   ]
  },
  {
   "cell_type": "code",
   "execution_count": 38,
   "metadata": {},
   "outputs": [],
   "source": [
    "optimizer = optim.Adam(model.parameters(), lr=1e-5)"
   ]
  },
  {
   "cell_type": "code",
   "execution_count": 39,
   "metadata": {},
   "outputs": [
    {
     "name": "stdout",
     "output_type": "stream",
     "text": [
      "Epoch [1/10], Loss: 333865.10020833334\n",
      "Epoch [2/10], Loss: 333865.08416666667\n",
      "Epoch [3/10], Loss: 333865.0677083333\n",
      "Epoch [4/10], Loss: 333865.0554861111\n",
      "Epoch [5/10], Loss: 333865.04243055556\n",
      "Epoch [6/10], Loss: 333865.0320138889\n",
      "Epoch [7/10], Loss: 333865.0238888889\n",
      "Epoch [8/10], Loss: 333865.0159722222\n",
      "Epoch [9/10], Loss: 333865.00930555555\n",
      "Epoch [10/10], Loss: 333865.00083333335\n",
      "Elapsed time: 42.95975923538208 seconds for 10000 simulations with 1000 points each on cuda.\n"
     ]
    }
   ],
   "source": [
    "import torch\n",
    "import torch.nn as nn\n",
    "import torch.optim as optim\n",
    "\n",
    "# Assuming model, train_loader, and criterion are already defined\n",
    "#model = ...  # Your neural network model\n",
    "#train_loader = ...  # DataLoader for your training data\n",
    "criterion = nn.MSELoss()  # Loss function for regression\n",
    "optimizer = optim.Adam(model.parameters(), lr=1e-5)  # Optimizer\n",
    "\n",
    "num_epochs = 10  # Number of epochs\n",
    "\n",
    "# Training loop\n",
    "for epoch in range(num_epochs):\n",
    "    model.train()  # Set the model to training mode\n",
    "    running_loss = 0.0\n",
    "\n",
    "    for batch in train_loader:\n",
    "        optimizer.zero_grad()  # Zero the gradients\n",
    "        inputs = batch[:,...,:-1].to(device)\n",
    "        outputs = model(inputs).to(device)\n",
    "        targets =   batch[:,...,-1].to(device)   # Forward pass\n",
    "        outputs = outputs.squeeze(-1)\n",
    "        loss = criterion(outputs, targets)  # Compute the loss\n",
    "\n",
    "        loss.backward()  # Backward pass\n",
    "        optimizer.step()  # Update the weights\n",
    "\n",
    "        running_loss += loss.item()\n",
    "\n",
    "    print(f\"Epoch [{epoch+1}/{num_epochs}], Loss: {running_loss/len(train_loader)}\")\n",
    "end_time = time.time()\n",
    "elapsed_time = end_time - start_time\n",
    "print(f\"Elapsed time: {elapsed_time} seconds for {num_instances} simulations with {num_samples} points each on {device}.\")\n"
   ]
  },
  {
   "cell_type": "code",
   "execution_count": 40,
   "metadata": {},
   "outputs": [
    {
     "name": "stdout",
     "output_type": "stream",
     "text": [
      "Epoch [10/10], Validation Loss: 333683.5175\n",
      "validation took 0.15374302864074707 secondson cuda.\n"
     ]
    }
   ],
   "source": [
    "model.eval()  # Set the model to evaluation mode\n",
    "val_loss = 0.0\n",
    "start_time = time.time()\n",
    "with torch.no_grad():\n",
    "    for batch in val_loader:\n",
    "        inputs = batch[:, ..., :-1].to(device)\n",
    "        outputs = model(inputs).to(device)\n",
    "        targets = batch[:, ..., -1].to(device)  # Forward pass\n",
    "        outputs = outputs.squeeze(-1)\n",
    "        loss = criterion(outputs, targets).to(device)  # Compute the loss\n",
    "        val_loss += loss.item()\n",
    "end_time = time.time()\n",
    "\n",
    "elapsed_time = end_time - start_time\n",
    "print(f\"Epoch [{epoch+1}/{num_epochs}], Validation Loss: {val_loss/len(val_loader)}\")\n",
    "print(f\"validation took {elapsed_time} secondson {device}.\")"
   ]
  }
 ],
 "metadata": {
  "kernelspec": {
   "display_name": "FEM",
   "language": "python",
   "name": "python3"
  },
  "language_info": {
   "codemirror_mode": {
    "name": "ipython",
    "version": 3
   },
   "file_extension": ".py",
   "mimetype": "text/x-python",
   "name": "python",
   "nbconvert_exporter": "python",
   "pygments_lexer": "ipython3",
   "version": "3.10.13"
  }
 },
 "nbformat": 4,
 "nbformat_minor": 2
}
