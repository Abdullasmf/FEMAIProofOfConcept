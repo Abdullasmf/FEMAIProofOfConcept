{
 "cells": [
  {
   "cell_type": "code",
   "execution_count": 27,
   "metadata": {},
   "outputs": [
    {
     "name": "stdout",
     "output_type": "stream",
     "text": [
      "torch.Size([4, 5670, 4])\n"
     ]
    }
   ],
   "source": [
    "import pandas as pd\n",
    "import torch\n",
    "import glob\n",
    "\n",
    "# Define the pattern to match files\n",
    "file_pattern = 'SWPR_WDFC.wRes.nom_SP.058_SP.060_2D_w0(*).xlsx'\n",
    "\n",
    "# Find all files matching the pattern\n",
    "file_paths = glob.glob(file_pattern)\n",
    "\n",
    "# Initialize a list to store the tensors\n",
    "data_list = []\n",
    "\n",
    "# Loop through the list of matching files\n",
    "for file_path in file_paths:\n",
    "    columns_to_read = ['E_X', 'E_Y', 'E_Z', 'PSCL']\n",
    "    df = pd.read_excel(file_path, usecols=columns_to_read)\n",
    "    data_array = df.to_numpy()\n",
    "    data_tensor = torch.tensor(data_array, dtype=torch.float32)\n",
    "    data_list.append(data_tensor)\n",
    "\n",
    "# Determine the maximum size of the second dimension\n",
    "max_size = max(tensor.shape[0] for tensor in data_list)\n",
    "\n",
    "# Pad each tensor to the maximum size\n",
    "padded_data_list = []\n",
    "for tensor in data_list:\n",
    "    padding = (0, 0, 0, max_size - tensor.shape[0])\n",
    "    padded_tensor = torch.nn.functional.pad(tensor, padding, mode='constant', value=0)\n",
    "    padded_data_list.append(padded_tensor)\n",
    "\n",
    "# Stack the padded tensors into a single tensor\n",
    "data_tensor = torch.stack(padded_data_list)\n",
    "\n",
    "# Print the shape of the final tensor\n",
    "print(data_tensor.shape)\n",
    "\n",
    "\n",
    "\n"
   ]
  }
 ],
 "metadata": {
  "kernelspec": {
   "display_name": "newenv",
   "language": "python",
   "name": "python3"
  },
  "language_info": {
   "codemirror_mode": {
    "name": "ipython",
    "version": 3
   },
   "file_extension": ".py",
   "mimetype": "text/x-python",
   "name": "python",
   "nbconvert_exporter": "python",
   "pygments_lexer": "ipython3",
   "version": "3.10.13"
  }
 },
 "nbformat": 4,
 "nbformat_minor": 2
}
