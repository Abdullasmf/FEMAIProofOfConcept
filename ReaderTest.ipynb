{
 "cells": [
  {
   "cell_type": "code",
   "execution_count": 9,
   "metadata": {},
   "outputs": [
    {
     "name": "stdout",
     "output_type": "stream",
     "text": [
      "torch.Size([11340, 4, 1])\n"
     ]
    }
   ],
   "source": [
    "import pandas as pd\n",
    "import torch\n",
    "\n",
    "\n",
    "sims=2\n",
    "shape = (sims, 5670, 4)\n",
    "data = torch.empty(shape, dtype=torch.float32)\n",
    "for n in range(sim):\n",
    "    file_path = f'SWPR_WDFC.wRes.nom_SP.058_SP.060_2D_w0({n}).xlsx'\n",
    "    columns_to_read = ['E_X','E_Y', 'E_Z','PSCL']\n",
    "    df = pd.read_excel(file_path, usecols=columns_to_read)\n",
    "    data_array = df.to_numpy()\n",
    "    data_array_expanded = data_array[None, :, :]\n",
    "    data[n] = torch.tensor(data_array_expanded, dtype=torch.float32)\n",
    "    #tensor_list.append(data_tensor)\n",
    "    #data\n",
    "#combined_tensor = torch.cat(tensor_list, dim=0)\n",
    "#print(data.shape)\n",
    "\n",
    "\n",
    "\n"
   ]
  },
  {
   "cell_type": "code",
   "execution_count": 13,
   "metadata": {},
   "outputs": [
    {
     "name": "stdout",
     "output_type": "stream",
     "text": [
      "tensor([[ 3677.6001,   177.7600,     0.0000, 33179.8555],\n",
      "        [ 3677.5283,   178.0630,     0.0000, 33179.8555],\n",
      "        [ 3677.4565,   178.3660,     0.0000, 33179.8555],\n",
      "        ...,\n",
      "        [ 3623.3999,   120.3637,     0.0000, 31282.0039],\n",
      "        [ 3623.3999,   120.2662,     0.0000, 31303.5430],\n",
      "        [ 3623.3999,   120.1687,     0.0000, 31324.8691]])\n"
     ]
    }
   ],
   "source": [
    "print(data[1])"
   ]
  }
 ],
 "metadata": {
  "kernelspec": {
   "display_name": "newenv",
   "language": "python",
   "name": "python3"
  },
  "language_info": {
   "codemirror_mode": {
    "name": "ipython",
    "version": 3
   },
   "file_extension": ".py",
   "mimetype": "text/x-python",
   "name": "python",
   "nbconvert_exporter": "python",
   "pygments_lexer": "ipython3",
   "version": "3.10.13"
  }
 },
 "nbformat": 4,
 "nbformat_minor": 2
}
